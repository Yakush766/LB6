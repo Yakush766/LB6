import pandas as pd
import numpy as np
from sklearn.preprocessing import StandardScaler, LabelEncoder

# === 1. Обзор структуры данных ===
df = pd.read_csv("test.csv")  # Загрузка датасета
print(df.info())              # Общая информация
print(df.describe())          # Статистика по числовым признакам

# === 2. Обнаружение и обработка пропусков ===
print(df.isnull().sum())      # Проверка на пропуски
df.fillna(df.median(numeric_only=True), inplace=True)  # Заполнение медианой (если бы были)

# === 3. Обнаружение и удаление выбросов ===
selected_features = ['battery_power', 'int_memory', 'px_height', 'px_width', 'ram']
for col in selected_features:
    Q1 = df[col].quantile(0.25)
    Q3 = df[col].quantile(0.75)
    IQR = Q3 - Q1
    lower = Q1 - 1.5 * IQR
    upper = Q3 + 1.5 * IQR
    df = df[(df[col] >= lower) & (df[col] <= upper)]  # Удаление выбросов

# === 4. Масштабирование числовых признаков ===
scaler = StandardScaler()
numeric_features = df.select_dtypes(include=np.number).drop(columns=['id']).columns
df[numeric_features] = scaler.fit_transform(df[numeric_features])

# === 5. Кодирование категориальных признаков ===
# В данном случае категориальных признаков нет, но на случай их появления:
categorical_features = df.select_dtypes(include='object').columns
label_encoders = {}
for col in categorical_features:
    le = LabelEncoder()
    df[col] = le.fit_transform(df[col])
    label_encoders[col] = le

# === 6. Финальный набор данных ===
print(df.info())        # Проверка после всех преобразований
print(df.shape)         # Размерность итогового набора

